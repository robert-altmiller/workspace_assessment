{
 "cells": [
  {
   "cell_type": "markdown",
   "metadata": {
    "application/vnd.databricks.v1+cell": {
     "cellMetadata": {},
     "inputWidgets": {},
     "nuid": "79af4edc-9c3f-4e1e-a4b9-c24f29abfcaf",
     "showTitle": false,
     "tableResultSettingsMap": {},
     "title": ""
    }
   },
   "source": [
    "# Databricks Workspace Assessment Configuration\n",
    "\n",
    "This notebook contains all configuration parameters for the workspace assessment tool."
   ]
  },
  {
   "cell_type": "code",
   "execution_count": 0,
   "metadata": {
    "application/vnd.databricks.v1+cell": {
     "cellMetadata": {
      "byteLimit": 2048000,
      "rowLimit": 10000
     },
     "inputWidgets": {},
     "nuid": "a30cb2cb-3fb7-4ee8-90fe-0697f8c79905",
     "showTitle": true,
     "tableResultSettingsMap": {},
     "title": "Library Imports"
    }
   },
   "outputs": [],
   "source": [
    "from typing import List"
   ]
  },
  {
   "cell_type": "code",
   "execution_count": 0,
   "metadata": {
    "application/vnd.databricks.v1+cell": {
     "cellMetadata": {
      "byteLimit": 2048000,
      "rowLimit": 10000
     },
     "inputWidgets": {},
     "nuid": "b52469d5-f653-4122-bfd8-b6e2170c493d",
     "showTitle": true,
     "tableResultSettingsMap": {},
     "title": "Target Configuration"
    }
   },
   "outputs": [],
   "source": [
    "# ====================================================================================\n",
    "# TARGET CONFIGURATION\n",
    "# ====================================================================================\n",
    "# ---- Where to write results ----\n",
    "TARGET_CATALOG = \"users\"            # <- set your catalog\n",
    "TARGET_SCHEMA  = \"robert_altmiller\"  # <- set your schema (created if missing)\n",
    "WRITE_RAW_MODE = \"overwrite\"       # \"append\" or \"overwrite\"\n",
    "WRITE_SUMMARY_MODE = \"overwrite\"   # \"append\" or \"overwrite\""
   ]
  },
  {
   "cell_type": "code",
   "execution_count": 0,
   "metadata": {
    "application/vnd.databricks.v1+cell": {
     "cellMetadata": {
      "byteLimit": 2048000,
      "rowLimit": 10000
     },
     "inputWidgets": {},
     "nuid": "47ed02ff-833a-4ee7-b827-8b932c1f4227",
     "showTitle": true,
     "tableResultSettingsMap": {},
     "title": "Http and Concurrency Configuration"
    }
   },
   "outputs": [],
   "source": [
    "# ====================================================================================\n",
    "# HTTP & CONCURRENCY CONFIGURATION\n",
    "# ====================================================================================\n",
    "# ---- Async / concurrency ----\n",
    "MAX_CONCURRENCY = 10               # aiohttp concurrent in-flight requests (reduced to avoid throttling)\n",
    "HTTP_TIMEOUT_SEC = 60\n",
    "RETRY_DELAY_BASE = 2\n",
    "RETRY_ATTEMPTS = 3\n",
    "\n",
    "# ---- Pagination defaults ----\n",
    "PAGE_SIZE_DEFAULT = 100\n",
    "JOBS_PAGE_SIZE = 100               # API max for /api/2.2/jobs/list\n",
    "DBSQL_WH_PAGE_SIZE = 100"
   ]
  },
  {
   "cell_type": "code",
   "execution_count": 0,
   "metadata": {
    "application/vnd.databricks.v1+cell": {
     "cellMetadata": {
      "byteLimit": 2048000,
      "rowLimit": 10000
     },
     "inputWidgets": {},
     "nuid": "7eaec820-d531-44bb-8b5d-183d4e679142",
     "showTitle": true,
     "tableResultSettingsMap": {},
     "title": "Logging and Debugging Configuration"
    }
   },
   "outputs": [],
   "source": [
    "# ====================================================================================\n",
    "# LOGGING & DEBUG CONFIGURATION  \n",
    "# ====================================================================================\n",
    "VERBOSE_LOG = True\n",
    "DEBUG_HTTP = False\n",
    "HEARTBEAT_SEC = 5"
   ]
  },
  {
   "cell_type": "code",
   "execution_count": 0,
   "metadata": {
    "application/vnd.databricks.v1+cell": {
     "cellMetadata": {
      "byteLimit": 2048000,
      "rowLimit": 10000
     },
     "inputWidgets": {},
     "nuid": "13426242-1ddf-4958-90e3-c95e56a4e6ec",
     "showTitle": true,
     "tableResultSettingsMap": {},
     "title": "Data Processing Configuration"
    }
   },
   "outputs": [],
   "source": [
    "# ====================================================================================\n",
    "# DATA PROCESSING CONFIGURATION\n",
    "# ====================================================================================\n",
    "# Enable streaming writes - write raw data immediately after each API call\n",
    "ENABLE_STREAMING_WRITES = True  # True = immediate writes, False = batch writes at end"
   ]
  },
  {
   "cell_type": "code",
   "execution_count": 0,
   "metadata": {
    "application/vnd.databricks.v1+cell": {
     "cellMetadata": {
      "byteLimit": 2048000,
      "rowLimit": 10000
     },
     "inputWidgets": {},
     "nuid": "81517343-5735-4f67-85dd-1308e84b9615",
     "showTitle": true,
     "tableResultSettingsMap": {},
     "title": "Delta Lake Schema Handling Configuration"
    }
   },
   "outputs": [],
   "source": [
    "# ====================================================================================\n",
    "# DELTA LAKE SCHEMA HANDLING CONFIGURATION\n",
    "# ====================================================================================\n",
    "# ---- Schema evolution options ----\n",
    "ENABLE_MERGE_SCHEMA = True         # Enable automatic schema merging for new columns\n",
    "ENABLE_OVERWRITE_SCHEMA = False    # Overwrite schema completely (use with caution)\n",
    "SKIP_EMPTY_DATASETS = True         # Skip writing empty datasets that cause schema inference errors\n",
    "FALLBACK_TO_OVERWRITE = True       # If schema merge fails, try overwrite mode as fallback\n",
    "VERBOSE_SCHEMA_ERRORS = True       # Print detailed schema error information"
   ]
  },
  {
   "cell_type": "code",
   "execution_count": 0,
   "metadata": {
    "application/vnd.databricks.v1+cell": {
     "cellMetadata": {
      "byteLimit": 2048000,
      "rowLimit": 10000
     },
     "inputWidgets": {},
     "nuid": "0def2fa3-1da7-49a3-901a-38d0b79c4015",
     "showTitle": true,
     "tableResultSettingsMap": {},
     "title": "Unity Catalog Configuration"
    }
   },
   "outputs": [],
   "source": [
    "# ====================================================================================\n",
    "# UNITY CATALOG CONFIGURATION\n",
    "# ====================================================================================\n",
    "# ---- UC scan controls (fast unit tests) ----\n",
    "UC_ENABLE = True\n",
    "UC_CATALOG_ALLOWLIST: List[str] = [\"hive_metastore\"]  # e.g. [\"main\", \"hive_metastore\"]; empty = all\n",
    "UC_CATALOG_LIMIT = 0                  # 0 = all; N = first N catalogs\n",
    "UC_SCHEMA_LIMIT_PER_CATALOG = 0       # 0 = all; N = first N schemas per catalog\n",
    "UC_MAX_WORKERS = 20"
   ]
  },
  {
   "cell_type": "code",
   "execution_count": 0,
   "metadata": {
    "application/vnd.databricks.v1+cell": {
     "cellMetadata": {
      "byteLimit": 2048000,
      "rowLimit": 10000
     },
     "inputWidgets": {},
     "nuid": "9129b11f-34b2-44d6-af99-daeab1e540fb",
     "showTitle": true,
     "tableResultSettingsMap": {},
     "title": "Endpoint Specific Configuration"
    }
   },
   "outputs": [],
   "source": [
    "# ====================================================================================\n",
    "# ENDPOINT-SPECIFIC CONFIGURATION\n",
    "# ====================================================================================\n",
    "# Global pagination controls (can be overridden per endpoint)\n",
    "ENABLE_PAGINATION_BY_DEFAULT = True\n",
    "\n",
    "# Per-endpoint pagination overrides\n",
    "# Set to True/False to enable/disable pagination for specific endpoints\n",
    "# None = use endpoint's default setting\n",
    "ENDPOINT_PAGINATION_OVERRIDES = {\n",
    "    # --- Compute ---\n",
    "    \"databricks_cluster\": None,             # No pagination available\n",
    "    \"databricks_cluster_policy\": True,      # Enable pagination (can be many policies)\n",
    "    \"databricks_instance_pool\": None,       # No pagination available\n",
    "    \n",
    "    # --- Workspace / Files ---\n",
    "    \"databricks_workspace_file\": False,     # Disable - usually too large and not needed in full\n",
    "    \"databricks_dbfs_file\": False,          # Disable - usually too large and not needed in full\n",
    "    \"databricks_workspace_conf\": None,      # No pagination available (single object)\n",
    "    \"databricks_global_init_script\": None,  # No pagination available\n",
    "    \n",
    "    # --- Jobs / Pipelines / Alerts / Dashboards ---\n",
    "    \"databricks_job\": True,                # Enable pagination (can be many jobs)\n",
    "    \"databricks_pipeline\": None,            # No pagination available\n",
    "    \"databricks_alert\": False,              # Enable pagination (can be many alerts)\n",
    "    \"databricks_dashboard\": False,          # Disable for faster collection (first page usually sufficient)\n",
    "    \n",
    "    # --- MLflow / Serving ---\n",
    "    \"databricks_registered_model\": True,   # Enable pagination (can be many models)\n",
    "    \"databricks_experiment\": True,          # Enable pagination (can be many experiments)\n",
    "    \"databricks_model_serving\": True,       # Enable pagination (can be many endpoints)\n",
    "    \n",
    "    # --- DBSQL ---\n",
    "    \"databricks_sql_endpoint\": True,        # Enable pagination (can be many warehouses)\n",
    "    \"databricks_sql_dashboard\": False,      # Disable for faster collection (alias to databricks_dashboard)\n",
    "    \"databricks_sql_alerts\": False,         # Enable pagination (alias to databricks_alert)\n",
    "    \n",
    "    # --- UC / Metastore ---\n",
    "    \"databricks_catalog\": None,             # No pagination available (usually small list)\n",
    "    \"databricks_external_location\": True,  # Enable pagination (can be many locations)\n",
    "    \"databricks_storage_credential\": True,  # Enable pagination (can be many credentials)\n",
    "    \"databricks_share\": True,               # Enable pagination (can be many shares)\n",
    "    \"databricks_recipient\": True,           # Enable pagination (can be many recipients)\n",
    "    \n",
    "    # --- Repos / Identity / Connections ---\n",
    "    \"databricks_repo\": True,                # Enable pagination (can be many repos)\n",
    "    \"databricks_secret_scope\": None,        # No pagination available\n",
    "    \"databricks_group\": True,               # Enable pagination (can be many groups)\n",
    "    \"databricks_connection\": True,         # Enable pagination (can be many connections)\n",
    "    \"databricks_credential\": None,          # No pagination available\n",
    "    \n",
    "    # --- Vector Search ---\n",
    "    \"databricks_vector_search_endpoint\": True,  # Enable pagination (can be many endpoints)\n",
    "    \"databricks_vector_search_index\": None,     # Skipped by default (requires endpoint_name)\n",
    "}"
   ]
  }
 ],
 "metadata": {
  "application/vnd.databricks.v1+notebook": {
   "computePreferences": {
    "hardware": {
     "accelerator": null,
     "gpuPoolId": null,
     "memory": null
    }
   },
   "dashboards": [],
   "environmentMetadata": null,
   "inputWidgetPreferences": null,
   "language": "python",
   "notebookMetadata": {
    "pythonIndentUnit": 2
   },
   "notebookName": "config",
   "widgets": {}
  },
  "language_info": {
   "name": "python"
  }
 },
 "nbformat": 4,
 "nbformat_minor": 0
}
