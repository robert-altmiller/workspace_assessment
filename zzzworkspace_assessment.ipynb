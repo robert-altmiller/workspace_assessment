{
  "cells": [
    {
      "cell_type": "markdown",
      "metadata": {},
      "source": [
        "# Databricks Workspace Assessment (v8) – Visibility + Limits + Safe Writes\n",
        "Author: You + GPT-5 Thinking\n",
        "\n",
        "**NOTE:** This is the legacy single-file version. Consider using main.py for better modularity and error handling.\n",
        "\n",
        "Goals:\n",
        "- Collect counts + raw rows for key Databricks objects\n",
        "- Correct per-endpoint pagination (with API caps)\n",
        "- Unity Catalog enumeration with allowlist + catalog/schema limits (fast unit tests)\n",
        "- Robust logging + rate-limit backoff + live heartbeats\n",
        "- Safe raw writes to UC (one table per object type) + summary table\n",
        "- No direct driver JVM access (safe on shared clusters)\n"
      ]
    },
    {
      "cell_type": "code",
      "execution_count": null,
      "metadata": {},
      "outputs": [],
      "source": [
        "import os, json, time, asyncio, aiohttp, requests, nest_asyncio, pandas as pd\n",
        "from datetime import datetime, timezone\n",
        "from typing import Dict, Any, List, Tuple\n",
        "from concurrent.futures import ThreadPoolExecutor, as_completed\n",
        "from aiohttp import TCPConnector, ClientTimeout\n",
        "\n",
        "from pyspark.sql import functions as F\n",
        "from pyspark.sql import types as T\n",
        "\n",
        "print(\"⚠️  This is the legacy single-file version.\")\n",
        "print(\"For better modularity and maintainability, please use the modular notebooks:\")\n",
        "print(\"  - config.ipynb\")\n",
        "print(\"  - api_client.ipynb\")\n",
        "print(\"  - data_processing.ipynb\")\n",
        "print(\"  - unity_catalog.ipynb\")\n",
        "print(\"  - endpoints.ipynb\")\n",
        "print(\"  - main.ipynb (main orchestration)\")\n",
        "print()\n",
        "print(\"The legacy code below is kept for backward compatibility.\")\n"
      ]
    }
  ],
  "metadata": {
    "language_info": {
      "name": "python"
    }
  },
  "nbformat": 4,
  "nbformat_minor": 2
}
